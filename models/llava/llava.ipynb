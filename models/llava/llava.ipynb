{
 "cells": [
  {
   "cell_type": "code",
   "execution_count": 1,
   "metadata": {},
   "outputs": [
    {
     "name": "stderr",
     "output_type": "stream",
     "text": [
      "/root/anaconda3/envs/Devin/lib/python3.10/site-packages/tqdm/auto.py:21: TqdmWarning: IProgress not found. Please update jupyter and ipywidgets. See https://ipywidgets.readthedocs.io/en/stable/user_install.html\n",
      "  from .autonotebook import tqdm as notebook_tqdm\n",
      "/root/anaconda3/envs/Devin/lib/python3.10/site-packages/torchvision/io/image.py:13: UserWarning: Failed to load image Python extension: '/root/anaconda3/envs/Devin/lib/python3.10/site-packages/torchvision/image.so: undefined symbol: _ZN3c1017RegisterOperatorsD1Ev'If you don't plan on using image functionality from `torchvision.io`, you can ignore this warning. Otherwise, there might be something wrong with your environment. Did you have `libjpeg` or `libpng` installed before building `torchvision` from source?\n",
      "  warn(\n",
      "Loading checkpoint shards: 100%|██████████| 6/6 [00:00<00:00,  8.58it/s]\n"
     ]
    },
    {
     "data": {
      "text/plain": [
       "LlavaNextForConditionalGeneration(\n",
       "  (vision_tower): CLIPVisionModel(\n",
       "    (vision_model): CLIPVisionTransformer(\n",
       "      (embeddings): CLIPVisionEmbeddings(\n",
       "        (patch_embedding): Conv2d(3, 1024, kernel_size=(14, 14), stride=(14, 14), bias=False)\n",
       "        (position_embedding): Embedding(577, 1024)\n",
       "      )\n",
       "      (pre_layrnorm): LayerNorm((1024,), eps=1e-05, elementwise_affine=True)\n",
       "      (encoder): CLIPEncoder(\n",
       "        (layers): ModuleList(\n",
       "          (0-23): 24 x CLIPEncoderLayer(\n",
       "            (self_attn): CLIPAttention(\n",
       "              (k_proj): Linear(in_features=1024, out_features=1024, bias=True)\n",
       "              (v_proj): Linear(in_features=1024, out_features=1024, bias=True)\n",
       "              (q_proj): Linear(in_features=1024, out_features=1024, bias=True)\n",
       "              (out_proj): Linear(in_features=1024, out_features=1024, bias=True)\n",
       "            )\n",
       "            (layer_norm1): LayerNorm((1024,), eps=1e-05, elementwise_affine=True)\n",
       "            (mlp): CLIPMLP(\n",
       "              (activation_fn): QuickGELUActivation()\n",
       "              (fc1): Linear(in_features=1024, out_features=4096, bias=True)\n",
       "              (fc2): Linear(in_features=4096, out_features=1024, bias=True)\n",
       "            )\n",
       "            (layer_norm2): LayerNorm((1024,), eps=1e-05, elementwise_affine=True)\n",
       "          )\n",
       "        )\n",
       "      )\n",
       "      (post_layernorm): LayerNorm((1024,), eps=1e-05, elementwise_affine=True)\n",
       "    )\n",
       "  )\n",
       "  (multi_modal_projector): LlavaNextMultiModalProjector(\n",
       "    (linear_1): Linear(in_features=1024, out_features=5120, bias=True)\n",
       "    (act): GELUActivation()\n",
       "    (linear_2): Linear(in_features=5120, out_features=5120, bias=True)\n",
       "  )\n",
       "  (language_model): LlamaForCausalLM(\n",
       "    (model): LlamaModel(\n",
       "      (embed_tokens): Embedding(32064, 5120, padding_idx=0)\n",
       "      (layers): ModuleList(\n",
       "        (0-39): 40 x LlamaDecoderLayer(\n",
       "          (self_attn): LlamaSdpaAttention(\n",
       "            (q_proj): Linear(in_features=5120, out_features=5120, bias=False)\n",
       "            (k_proj): Linear(in_features=5120, out_features=5120, bias=False)\n",
       "            (v_proj): Linear(in_features=5120, out_features=5120, bias=False)\n",
       "            (o_proj): Linear(in_features=5120, out_features=5120, bias=False)\n",
       "            (rotary_emb): LlamaRotaryEmbedding()\n",
       "          )\n",
       "          (mlp): LlamaMLP(\n",
       "            (gate_proj): Linear(in_features=5120, out_features=13824, bias=False)\n",
       "            (up_proj): Linear(in_features=5120, out_features=13824, bias=False)\n",
       "            (down_proj): Linear(in_features=13824, out_features=5120, bias=False)\n",
       "            (act_fn): SiLU()\n",
       "          )\n",
       "          (input_layernorm): LlamaRMSNorm()\n",
       "          (post_attention_layernorm): LlamaRMSNorm()\n",
       "        )\n",
       "      )\n",
       "      (norm): LlamaRMSNorm()\n",
       "    )\n",
       "    (lm_head): Linear(in_features=5120, out_features=32064, bias=False)\n",
       "  )\n",
       ")"
      ]
     },
     "execution_count": 1,
     "metadata": {},
     "output_type": "execute_result"
    }
   ],
   "source": [
    "from transformers import LlavaNextProcessor, LlavaNextForConditionalGeneration\n",
    "import torch\n",
    "from PIL import Image\n",
    "import requests\n",
    "model_path  = \"llava-v1.6-vicuna-13b-hf\"\n",
    "processor = LlavaNextProcessor.from_pretrained(model_path)\n",
    "model = LlavaNextForConditionalGeneration.from_pretrained(model_path, torch_dtype=torch.float16, low_cpu_mem_usage=True) \n",
    "model.to(\"cuda:0\")\n",
    "\n",
    "# prepare image and text prompt, using the appropriate prompt template\n"
   ]
  },
  {
   "cell_type": "code",
   "execution_count": 10,
   "metadata": {},
   "outputs": [
    {
     "name": "stdout",
     "output_type": "stream",
     "text": [
      "A chat between a curious human and an artificial intelligence assistant. The assistant gives helpful, detailed, and polite answers to the human's questions. USER: \n",
      "You are a discerning inspection engineer with the ability to identify defects in images. Please help me determine if the image exhibits any of the following conditions:1.The people in the image should have normal human proportions and should not display any body deformities, missing parts, or distortions.2.If there exist fingers ,their fingers should be complete, with no extra fingers, missing fingers, or deformed fingers.3.Their limbs should be complete, with no dislocations, incorrect connections, extra arms, extra legs, or extra hands.4.If there exist faces, their faces should be complete, with no facial deformities, missing parts, or distortions.ASSISTANT: As an AI, I can provide an analysis of the image based on the criteria you've provided:\n",
      "\n",
      "1. The person in the image appears to have normal human proportions. There are no visible deformities or distortions that would suggest body deformities or missing parts.\n",
      "\n",
      "2. The fingers are complete, and there are no extra fingers, missing fingers, or deformed fingers that are visible.\n",
      "\n",
      "3. The limbs appear to be complete, and there are no dislocations, incorrect connections, extra arms, extra legs, or extra hands that are visible.\n",
      "\n",
      "4. The face is complete, and there are no facial deformities, missing parts, or distortions that are visible.\n",
      "\n",
      "Based on these observations, the image does not exhibit any of the conditions you've listed. It appears to be a well-composed image with normal human proportions and no visible defects.\n"
     ]
    }
   ],
   "source": [
    "import torch\n",
    "from PIL import Image\n",
    "import requests\n",
    "# prepare image and text prompt, using the appropriate prompt template\n",
    "\n",
    "image_path = \"images/bad3.png\"\n",
    "image = Image.open(image_path)\n",
    "prompt = \"A chat between a curious human and an artificial intelligence assistant. The assistant gives helpful, detailed, and polite answers to the human's questions. USER: <image>\\nYou are a discerning inspection engineer with the ability to identify defects in images. Please help me determine if the image exhibits any of the following conditions:1.The people in the image should have normal human proportions and should not display any body deformities, missing parts, or distortions.2.If there exist fingers ,their fingers should be complete, with no extra fingers, missing fingers, or deformed fingers.3.Their limbs should be complete, with no dislocations, incorrect connections, extra arms, extra legs, or extra hands.4.If there exist faces, their faces should be complete, with no facial deformities, missing parts, or distortions.ASSISTANT:\"\n",
    "\n",
    "inputs = processor(prompt, image, return_tensors=\"pt\").to(\"cuda:0\")\n",
    "\n",
    "# autoregressively complete prompt\n",
    "output = model.generate(**inputs, max_new_tokens=1024)\n",
    "\n",
    "print(processor.decode(output[0], skip_special_tokens=True))"
   ]
  }
 ],
 "metadata": {
  "kernelspec": {
   "display_name": "internvl",
   "language": "python",
   "name": "python3"
  },
  "language_info": {
   "codemirror_mode": {
    "name": "ipython",
    "version": 3
   },
   "file_extension": ".py",
   "mimetype": "text/x-python",
   "name": "python",
   "nbconvert_exporter": "python",
   "pygments_lexer": "ipython3",
   "version": "3.10.9"
  }
 },
 "nbformat": 4,
 "nbformat_minor": 2
}
